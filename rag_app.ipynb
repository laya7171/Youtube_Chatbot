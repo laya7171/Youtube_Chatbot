{
 "cells": [
  {
   "cell_type": "code",
   "execution_count": 58,
   "id": "11ab7bf6",
   "metadata": {},
   "outputs": [],
   "source": [
    "from langchain_ollama import OllamaLLM\n",
    "from langchain_core.prompts import PromptTemplate"
   ]
  },
  {
   "cell_type": "code",
   "execution_count": 59,
   "id": "7131a123",
   "metadata": {},
   "outputs": [],
   "source": [
    "from youtube_transcript_api import YouTubeTranscriptApi, TranscriptsDisabled\n",
    "from langchain.text_splitter import RecursiveCharacterTextSplitter\n",
    "from langchain.prompts import PromptTemplate\n",
    "from langchain_community.vectorstores import FAISS"
   ]
  },
  {
   "cell_type": "code",
   "execution_count": 60,
   "id": "3936ddbc",
   "metadata": {},
   "outputs": [],
   "source": [
    "video_id = \"ybuJ_nIXwGE\"  #THis is the video ID fro joe rogram podcast with magnus clarsen episode 2275\n",
    "try:\n",
    "    transcript_list = YouTubeTranscriptApi.get_transcript(video_id, languages=['en'])\n",
    "    transcript = \" \".join([item['text'] for item in transcript_list])\n",
    "    \n",
    "except TranscriptsDisabled:\n",
    "    print(\"No caption found for this video.\")"
   ]
  },
  {
   "cell_type": "code",
   "execution_count": 61,
   "id": "8a1f69b9",
   "metadata": {},
   "outputs": [
    {
     "name": "stdout",
     "output_type": "stream",
     "text": [
      "Transcript length: 115648\n"
     ]
    }
   ],
   "source": [
    "print(\"Transcript length:\", len(transcript))"
   ]
  },
  {
   "cell_type": "code",
   "execution_count": 62,
   "id": "71b9e02d",
   "metadata": {},
   "outputs": [],
   "source": [
    "splitter = RecursiveCharacterTextSplitter(chunk_size=1000, chunk_overlap=200)\n",
    "chunks = splitter.create_documents([transcript])"
   ]
  },
  {
   "cell_type": "code",
   "execution_count": 63,
   "id": "6e725100",
   "metadata": {},
   "outputs": [
    {
     "data": {
      "text/plain": [
       "145"
      ]
     },
     "execution_count": 63,
     "metadata": {},
     "output_type": "execute_result"
    }
   ],
   "source": [
    "len(chunks)"
   ]
  },
  {
   "cell_type": "code",
   "execution_count": 64,
   "id": "5ec91e0e",
   "metadata": {},
   "outputs": [
    {
     "data": {
      "text/plain": [
       "\"Joe Rogan podcast check it out The Joe Rogan Experience Train by day Joe Rogan podcast by night all day all right we're up and roll Magnus Carlon ladies and gentlemen you want some coffee no oh this is water uh tell Jeff to bring in the coffee forgot to bring in the coffee no no I'm good with water well I need coffee I'm going to keep up with you buddy and of course Tony hinchliff is here who's a gigantic chess fan and just his pants yesterday when I told him you were coming in and then immediately I said you got to come with me and so Tony's here as well it's an honor to meet you man um I I I'm always fascinated by people that are at the top of something that's insanely difficult like chess and I'm always wondering like how much time is involved how much how often do you play and when did you start how old were you when you first started playing I think my dad my dad is an avid chess player so I think he uh t thought that I might have some Talent so he thought he taught me pretty\""
      ]
     },
     "execution_count": 64,
     "metadata": {},
     "output_type": "execute_result"
    }
   ],
   "source": [
    "chunks[0].page_content"
   ]
  },
  {
   "cell_type": "code",
   "execution_count": 65,
   "id": "eb90629a",
   "metadata": {},
   "outputs": [],
   "source": [
    "from langchain.embeddings import HuggingFaceEmbeddings\n",
    "embeddings = HuggingFaceEmbeddings(model_name=\"sentence-transformers/all-MiniLM-L6-v2\")"
   ]
  },
  {
   "cell_type": "code",
   "execution_count": 66,
   "id": "d0b63044",
   "metadata": {},
   "outputs": [],
   "source": [
    "vectorestore = FAISS.from_documents(chunks, embeddings)"
   ]
  },
  {
   "cell_type": "markdown",
   "id": "574c0fd3",
   "metadata": {},
   "source": [
    "# Retrival"
   ]
  },
  {
   "cell_type": "code",
   "execution_count": 67,
   "id": "e67ef8f5",
   "metadata": {},
   "outputs": [],
   "source": [
    "retriver = vectorestore.as_retriever(\n",
    "    search_kwargs={\"k\": 3},\n",
    "    search_type=\"similarity\",\n",
    "    )"
   ]
  },
  {
   "cell_type": "code",
   "execution_count": 68,
   "id": "86c01299",
   "metadata": {},
   "outputs": [],
   "source": [
    "llm = OllamaLLM(model=\"phi3:latest\", temperature=0.1)"
   ]
  },
  {
   "cell_type": "code",
   "execution_count": 69,
   "id": "09b74daa",
   "metadata": {},
   "outputs": [],
   "source": [
    "template = PromptTemplate(\n",
    "    template=\"You are a helpful assistant. Answer the question only from the context provided don't generate on your own. If you don't know the answer, say 'I don't know'. Context: {context} Question: {question}\",\n",
    "    input_variables=[\"context\", \"question\"]\n",
    ")"
   ]
  },
  {
   "cell_type": "code",
   "execution_count": 70,
   "id": "bf7fd225",
   "metadata": {},
   "outputs": [],
   "source": [
    "question = \"Who is magnus clarsen?\"\n",
    "retrived_docs = retriver.invoke(question)"
   ]
  },
  {
   "cell_type": "code",
   "execution_count": 71,
   "id": "5ba7505f",
   "metadata": {},
   "outputs": [],
   "source": [
    "context_text = \"\\n\".join([doc.page_content for doc in retrived_docs])"
   ]
  },
  {
   "cell_type": "code",
   "execution_count": 72,
   "id": "43f67a5c",
   "metadata": {},
   "outputs": [],
   "source": [
    "final_prompt = template.invoke({\n",
    "    \"context\": context_text,\n",
    "    \"question\": question\n",
    "})"
   ]
  },
  {
   "cell_type": "markdown",
   "id": "8e62ca84",
   "metadata": {},
   "source": [
    "# Generation "
   ]
  },
  {
   "cell_type": "code",
   "execution_count": 74,
   "id": "ec28255b",
   "metadata": {},
   "outputs": [],
   "source": [
    "answer = llm.invoke(final_prompt)"
   ]
  },
  {
   "cell_type": "code",
   "execution_count": 75,
   "id": "df359a89",
   "metadata": {},
   "outputs": [],
   "source": [
    "from langchain_core.runnables import RunnablePassthrough ,RunnableParallel, RunnableLambda"
   ]
  },
  {
   "cell_type": "code",
   "execution_count": 76,
   "id": "652f2c7f",
   "metadata": {},
   "outputs": [],
   "source": [
    "def format_text(text):\n",
    "    context_text = \"\\n\".join([doc.page_content for doc in text])\n",
    "    return context_text"
   ]
  },
  {
   "cell_type": "code",
   "execution_count": 77,
   "id": "346471bb",
   "metadata": {},
   "outputs": [],
   "source": [
    "parallel_chain = RunnableParallel({\n",
    "    'context': retriver | RunnableLambda(format_text),\n",
    "    'question': RunnablePassthrough()\n",
    "})"
   ]
  },
  {
   "cell_type": "code",
   "execution_count": 78,
   "id": "fd71c496",
   "metadata": {},
   "outputs": [],
   "source": [
    "from langchain_core.output_parsers import StrOutputParser"
   ]
  },
  {
   "cell_type": "code",
   "execution_count": 79,
   "id": "8816eef5",
   "metadata": {},
   "outputs": [],
   "source": [
    "parser = StrOutputParser()"
   ]
  },
  {
   "cell_type": "code",
   "execution_count": 80,
   "id": "a2970aac",
   "metadata": {},
   "outputs": [],
   "source": [
    "main_chain = parallel_chain | template | llm | parser"
   ]
  },
  {
   "cell_type": "code",
   "execution_count": 81,
   "id": "3811945b",
   "metadata": {},
   "outputs": [
    {
     "data": {
      "text/plain": [
       "'Magnus Carlsen, the current world champion of chess from Norway, has shared that he plays casual online blitz or rapid games for money on a site called Chess.com during his free time to earn Cloud engine times which allows him more access to powerful chess engines like Stockfish and Komodo when playing longer classical games.'"
      ]
     },
     "execution_count": 81,
     "metadata": {},
     "output_type": "execute_result"
    }
   ],
   "source": [
    "main_chain.invoke(\"What does magnus clarsen do in his freetime?\")"
   ]
  }
 ],
 "metadata": {
  "kernelspec": {
   "display_name": "chatbot",
   "language": "python",
   "name": "python3"
  },
  "language_info": {
   "codemirror_mode": {
    "name": "ipython",
    "version": 3
   },
   "file_extension": ".py",
   "mimetype": "text/x-python",
   "name": "python",
   "nbconvert_exporter": "python",
   "pygments_lexer": "ipython3",
   "version": "3.10.11"
  }
 },
 "nbformat": 4,
 "nbformat_minor": 5
}
